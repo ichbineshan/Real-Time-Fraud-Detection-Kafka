{
 "cells": [
  {
   "cell_type": "code",
   "execution_count": 1,
   "metadata": {},
   "outputs": [],
   "source": [
    "!pip install kafka-python\n",
    "!pip install pandas"
   ]
  },
  {
   "cell_type": "code",
   "execution_count": 2,
   "metadata": {},
   "outputs": [],
   "source": [
    "import pandas as pd\n",
    "from kafka import KafkaProducer\n",
    "from time import sleep\n",
    "from json import dumps\n",
    "import json\n"
   ]
  },
  {
   "cell_type": "code",
   "execution_count": 3,
   "metadata": {},
   "outputs": [],
   "source": [
    "# value_serializer=lambda x: dumps(x).encode('utf-8')\n",
    "producer = KafkaProducer(bootstrap_servers=['13.233.251.226:9092'],value_serializer=lambda x: dumps(x).encode('utf-8'))"
   ]
  },
  {
   "cell_type": "code",
   "execution_count": 4,
   "metadata": {},
   "outputs": [],
   "source": [
    "producer.bootstrap_connected()"
   ]
  },
  {
   "cell_type": "code",
   "execution_count": 5,
   "metadata": {},
   "outputs": [],
   "source": [
    "data = {\n",
    "    'Unnamed': 330135,\n",
    "    'trans_date_trans_time': '2020-10-25 23:06:13',\n",
    "    'cc_num': 4883407061576,\n",
    "    'merchant': 'fraud_Kassulke PLC',\n",
    "    'category': 'shopping_net',\n",
    "    'amt': 974.36,\n",
    "    'first': 'Rachel',\n",
    "    'last': 'Williams',\n",
    "    'gender': 'F',\n",
    "    'street': '6386 Bailey Hill Apt. 421',\n",
    "    'city': 'Seattle',\n",
    "    'state': 'WA',\n",
    "    'zip': 98118,\n",
    "    'lat': 47.5412,\n",
    "    'long': -122.275,\n",
    "    'city_pop': 837792,\n",
    "    'job': 'Systems developer',\n",
    "    'dob': '1936-12-23',\n",
    "    'trans_num': '5cc92a8f0821a1fb075acce4e8b21ed4',\n",
    "    'unix_time': 1382742373,\n",
    "    'merch_lat': 48.375593,\n",
    "    'merch_long': -122.83509\n",
    "}\n",
    "producer.send('demo2',value=data)\n"
   ]
  },
  {
   "cell_type": "code",
   "execution_count": 6,
   "metadata": {},
   "outputs": [],
   "source": [
    "df = pd.read_csv('transaction_requests.csv')"
   ]
  },
  {
   "cell_type": "code",
   "execution_count": 7,
   "metadata": {},
   "outputs": [],
   "source": [
    "df.head()"
   ]
  },
  {
   "cell_type": "code",
   "execution_count": 8,
   "metadata": {},
   "outputs": [],
   "source": [
    "while True:\n",
    "    row=df.sample(1).to_dict(orient='records')[0]\n",
    "    producer.send('demo2',value=row)\n"
   ]
  },
  {
   "cell_type": "code",
   "execution_count": null,
   "metadata": {},
   "outputs": [],
   "source": [
    "# while True:\n",
    "#     row=df.sample(1).to_dict(orient='records')[0]\n",
    "#     producer.send('demo2',value=row)\n",
    "#     sleep(3)"
   ]
  }
 ],
 "metadata": {
  "kernelspec": {
   "display_name": "Python 3 (ipykernel)",
   "language": "python",
   "name": "python3"
  },
  "language_info": {
   "codemirror_mode": {
    "name": "ipython",
    "version": 3
   },
   "file_extension": ".py",
   "mimetype": "text/x-python",
   "name": "python",
   "nbconvert_exporter": "python",
   "pygments_lexer": "ipython3",
   "version": "3.10.6"
  }
 },
 "nbformat": 4,
 "nbformat_minor": 2
}
